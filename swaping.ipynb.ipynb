{
  "cells": [
    {
      "cell_type": "code",
      "execution_count": null,
      "metadata": {
        "colab": {
          "base_uri": "https://localhost:8080/"
        },
        "id": "PDYs0xjJM3Kk",
        "outputId": "d5738851-50d1-40e9-bab7-aa51bde23dd6"
      },
      "outputs": [
        {
          "name": "stdout",
          "output_type": "stream",
          "text": [
            "3 \n",
            "5\n",
            "a 5\n",
            "b 3\n"
          ]
        }
      ],
      "source": [
        "#swaping using sum/diff\n",
        "a=int(input( ))\n",
        "b=int(input( ))\n",
        "a=a+b\n",
        "b=a-b\n",
        "a=a-b\n",
        "print(\"a\",a)\n",
        "print(\"b\",b)"
      ]
    },
    {
      "cell_type": "code",
      "execution_count": 2,
      "metadata": {
        "colab": {
          "base_uri": "https://localhost:8080/"
        },
        "id": "VYhvctKVOBnU",
        "outputId": "92995943-5747-4bd7-d207-812f021b3a06"
      },
      "outputs": [
        {
          "name": "stdout",
          "output_type": "stream",
          "text": [
            "25\n",
            "5\n",
            "a 5.0\n",
            "b 25.0\n"
          ]
        }
      ],
      "source": [
        "#swaping using product/division\n",
        "a=int(input( ))\n",
        "b=int(input( ))\n",
        "a=a*b\n",
        "b=a/b\n",
        "a=a/b\n",
        "print(\"a\",a)\n",
        "print(\"b\",b)"
      ]
    },
    {
      "cell_type": "code",
      "execution_count": 6,
      "metadata": {
        "colab": {
          "base_uri": "https://localhost:8080/"
        },
        "id": "qi39WRpQQSUk",
        "outputId": "122592da-9597-44c9-dd91-2e1a15a0bd1f"
      },
      "outputs": [
        {
          "name": "stdout",
          "output_type": "stream",
          "text": [
            "45\n",
            "56\n",
            "after swaping\n",
            "a 56\n",
            "b 45\n"
          ]
        }
      ],
      "source": [
        "#circumference swaping\n",
        "a=int(input( ))\n",
        "b=int(input( ))\n",
        "a=a^b\n",
        "b=a^b\n",
        "a=a^b\n",
        "print(\"after swaping\")\n",
        "print(\"a\",a)\n",
        "print(\"b\",b)"
      ]
    },
    {
      "cell_type": "code",
      "execution_count": 20,
      "metadata": {
        "colab": {
          "base_uri": "https://localhost:8080/"
        },
        "id": "TPtIjikIXNJa",
        "outputId": "dd2b1c94-007f-47f6-e3d2-ab3bf0178e81"
      },
      "outputs": [
        {
          "name": "stdout",
          "output_type": "stream",
          "text": [
            "['cherry', 'banana']\n",
            "[['apple', 'mango'], ['cherry', 'banana'], ['kiwi', 'grapes']]\n",
            "[['apple', 'mango'], ['cherry', 'banana'], 'banana']\n",
            "[['apple', 'mango'], ['cherry', 'banana']]\n",
            "[['apple', 'mango'], 'banana']\n",
            "[['apple', 'mango'], ['cherry', 'banana'], 'banana']\n",
            "['apple', 'mango']\n"
          ]
        }
      ],
      "source": [
        "#list and type of operations\n",
        "fruits=[[\"apple\",\"mango\"],[\"cherry\",\"banana\"],[\"kiwi\",\"grapes\"]]\n",
        "print(fruits[1])\n",
        "print(fruits)\n",
        "fruits[2]=\"banana\"\n",
        "print(fruits)\n",
        "print(fruits[0:2])\n",
        "print(fruits[0::2])\n",
        "print(fruits)\n",
        "fruits.reverse()\n",
        "print(fruits[2])"
      ]
    }
  ],
  "metadata": {
    "accelerator": "GPU",
    "colab": {
      "gpuType": "T4",
      "provenance": []
    },
    "kernelspec": {
      "display_name": "Python 3",
      "name": "python3"
    },
    "language_info": {
      "name": "python"
    }
  },
  "nbformat": 4,
  "nbformat_minor": 0
}
